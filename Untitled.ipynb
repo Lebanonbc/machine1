{
  "metadata": {
    "language_info": {
      "codemirror_mode": {
        "name": "python",
        "version": 3
      },
      "file_extension": ".py",
      "mimetype": "text/x-python",
      "name": "python",
      "nbconvert_exporter": "python",
      "pygments_lexer": "ipython3",
      "version": "3.8"
    },
    "kernelspec": {
      "name": "python",
      "display_name": "Python (Pyodide)",
      "language": "python"
    }
  },
  "nbformat_minor": 4,
  "nbformat": 4,
  "cells": [
    {
      "cell_type": "code",
      "source": " Financial data Analyst\n\nI am intrested in working as Financial data scientist where I can use data to get insights to the highest profits with lowest risk\n\nThe following code will add two numbers and print result\n\nx=1\ny=1\nz=(x+y)\nprint(\"z\")\n\nIntrested domain are :\nfixed income\nderivate\ndata science\ndata engieering \n\n",
      "metadata": {},
      "execution_count": null,
      "outputs": []
    },
    {
      "cell_type": "markdown",
      "source": " Financial data Analyst\n\nI am intrested in working as Financial data scientist where I can use data to get insights to the highest profits with lowest risk\n\nThe following code will add two numbers and print result\n\nx=1\ny=1\nz=(x+y)\nprint(\"z\")\n\nIntrested domain are :\nfixed income\nderivate\ndata science\ndata engieering \n\n",
      "metadata": {}
    }
  ]
}